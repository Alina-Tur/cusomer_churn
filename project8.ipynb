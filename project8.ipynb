{
  "nbformat": 4,
  "nbformat_minor": 0,
  "metadata": {
    "ExecuteTimeLog": [
      {
        "duration": 144,
        "start_time": "2021-07-28T00:53:31.705Z"
      },
      {
        "duration": 1454,
        "start_time": "2021-07-28T00:55:56.811Z"
      },
      {
        "duration": 268,
        "start_time": "2021-07-28T00:56:20.649Z"
      },
      {
        "duration": 30,
        "start_time": "2021-07-28T00:56:38.069Z"
      },
      {
        "duration": 6,
        "start_time": "2021-07-28T01:02:16.103Z"
      },
      {
        "duration": 16,
        "start_time": "2021-07-28T01:06:41.951Z"
      },
      {
        "duration": 542,
        "start_time": "2021-07-28T01:07:08.669Z"
      },
      {
        "duration": 9,
        "start_time": "2021-07-28T01:07:22.067Z"
      },
      {
        "duration": 10,
        "start_time": "2021-07-28T01:09:22.426Z"
      },
      {
        "duration": 10,
        "start_time": "2021-07-28T01:09:49.783Z"
      },
      {
        "duration": 9,
        "start_time": "2021-07-28T01:10:13.254Z"
      },
      {
        "duration": 10,
        "start_time": "2021-07-28T01:10:53.385Z"
      },
      {
        "duration": 7,
        "start_time": "2021-07-28T01:12:46.567Z"
      },
      {
        "duration": 401,
        "start_time": "2021-07-28T01:13:08.562Z"
      },
      {
        "duration": 27,
        "start_time": "2021-07-28T01:13:13.480Z"
      },
      {
        "duration": 20,
        "start_time": "2021-07-28T01:28:24.324Z"
      },
      {
        "duration": 28,
        "start_time": "2021-07-28T01:28:32.797Z"
      },
      {
        "duration": 10,
        "start_time": "2021-07-28T01:33:14.333Z"
      },
      {
        "duration": 7,
        "start_time": "2021-07-28T01:33:35.704Z"
      },
      {
        "duration": 128,
        "start_time": "2021-07-28T01:40:09.495Z"
      },
      {
        "duration": 47,
        "start_time": "2021-07-28T01:41:21.732Z"
      },
      {
        "duration": 23,
        "start_time": "2021-07-28T01:43:01.781Z"
      },
      {
        "duration": 11,
        "start_time": "2021-07-28T01:46:29.604Z"
      },
      {
        "duration": 15,
        "start_time": "2021-07-28T01:49:44.288Z"
      },
      {
        "duration": 230,
        "start_time": "2021-07-28T01:53:40.864Z"
      },
      {
        "duration": 230,
        "start_time": "2021-07-28T01:59:46.944Z"
      },
      {
        "duration": 622,
        "start_time": "2021-07-28T02:03:44.009Z"
      },
      {
        "duration": 81,
        "start_time": "2021-07-28T02:06:28.238Z"
      },
      {
        "duration": 15,
        "start_time": "2021-07-28T02:06:56.529Z"
      },
      {
        "duration": 20,
        "start_time": "2021-07-28T02:08:18.165Z"
      },
      {
        "duration": 14,
        "start_time": "2021-07-28T02:10:06.068Z"
      },
      {
        "duration": 9,
        "start_time": "2021-07-28T02:13:35.069Z"
      },
      {
        "duration": 14,
        "start_time": "2021-07-28T02:13:56.111Z"
      },
      {
        "duration": 7,
        "start_time": "2021-07-28T02:14:18.642Z"
      },
      {
        "duration": 6,
        "start_time": "2021-07-28T02:18:05.163Z"
      },
      {
        "duration": 283,
        "start_time": "2021-07-28T02:20:06.608Z"
      },
      {
        "duration": 823,
        "start_time": "2021-07-28T02:22:33.282Z"
      },
      {
        "duration": 547,
        "start_time": "2021-07-28T02:23:00.421Z"
      },
      {
        "duration": 280,
        "start_time": "2021-07-28T02:23:11.998Z"
      },
      {
        "duration": 1490,
        "start_time": "2021-07-28T02:24:57.055Z"
      },
      {
        "duration": 796,
        "start_time": "2021-07-28T02:25:06.855Z"
      },
      {
        "duration": 13,
        "start_time": "2021-07-28T02:35:06.668Z"
      }
    ],
    "kernelspec": {
      "display_name": "Python 3",
      "language": "python",
      "name": "python3"
    },
    "language_info": {
      "codemirror_mode": {
        "name": "ipython",
        "version": 3
      },
      "file_extension": ".py",
      "mimetype": "text/x-python",
      "name": "python",
      "nbconvert_exporter": "python",
      "pygments_lexer": "ipython3",
      "version": "3.7.8"
    },
    "toc": {
      "base_numbering": 1,
      "nav_menu": {},
      "number_sections": true,
      "sideBar": true,
      "skip_h1_title": true,
      "title_cell": "Table of Contents",
      "title_sidebar": "Contents",
      "toc_cell": false,
      "toc_position": {},
      "toc_section_display": true,
      "toc_window_display": false
    },
    "colab": {
      "provenance": [],
      "include_colab_link": true
    }
  },
  "cells": [
    {
      "cell_type": "markdown",
      "metadata": {
        "id": "view-in-github",
        "colab_type": "text"
      },
      "source": [
        "<a href=\"https://colab.research.google.com/github/Alina-Tur/cusomer_churn/blob/main/project8.ipynb\" target=\"_parent\"><img src=\"https://colab.research.google.com/assets/colab-badge.svg\" alt=\"Open In Colab\"/></a>"
      ]
    },
    {
      "cell_type": "markdown",
      "metadata": {
        "id": "zXt1yhL9wQOe"
      },
      "source": [
        "# Project description"
      ]
    },
    {
      "cell_type": "markdown",
      "metadata": {
        "id": "JNzmYJArwQOj"
      },
      "source": [
        "Beta Bank has a high decrease in number of existing customers. It is cheaper for the company to save the existing customers than to attract new ones.\n",
        "We need to predict whether a customer will leave the bank soon. We have the data on clients’ past behavior and termination of contracts with the bank.\n",
        "We will build a model with the maximum possible F1 score(at least 0.59). Additionally,we will measure the AUC-ROC metric and compare it with the F1.\n"
      ]
    },
    {
      "cell_type": "markdown",
      "metadata": {
        "id": "OFhlVnsjwQOk"
      },
      "source": [
        "<a href='step1'> Data Preparation </a>\n",
        "\n",
        "<a href='step2'> Model without Imbalance Handling </a>\n",
        "\n",
        "<a href='step3'> Balanced Class Parameters </a>\n",
        "\n",
        "<a href='step4'> Oversampling Minorities </a>\n",
        "\n",
        "<a href='step5'> Conclusion </a>"
      ]
    },
    {
      "cell_type": "markdown",
      "metadata": {
        "id": "E9zL_jquwQOk"
      },
      "source": [
        "<a id='step1'></a>"
      ]
    },
    {
      "cell_type": "markdown",
      "metadata": {
        "id": "vx62H79vwQOl"
      },
      "source": [
        "# Data Preparation"
      ]
    },
    {
      "cell_type": "code",
      "metadata": {
        "id": "WBVxSOwtwQOl"
      },
      "source": [
        "import pandas as pd\n",
        "import numpy as np\n",
        "import matplotlib.pyplot as plt\n",
        "from scipy import stats as st\n",
        "from sklearn.tree import DecisionTreeClassifier #DecisionTreeRegressor\n",
        "# import other models\n",
        "from sklearn.ensemble import RandomForestClassifier, AdaBoostClassifier #RandomForestRegressor\n",
        "from sklearn.naive_bayes import GaussianNB\n",
        "from sklearn.linear_model import LogisticRegression\n",
        "from sklearn.preprocessing import StandardScaler\n",
        "from sklearn.metrics import accuracy_score, f1_score, roc_auc_score, balanced_accuracy_score, confusion_matrix, classification_report\n",
        "\n",
        "from sklearn.model_selection import train_test_split\n",
        "%matplotlib inline\n"
      ],
      "execution_count": null,
      "outputs": []
    },
    {
      "cell_type": "code",
      "metadata": {
        "id": "CgOVoYqvwQOn"
      },
      "source": [
        "df = pd.read_csv('https://code.s3.yandex.net/datasets/Churn.csv')"
      ],
      "execution_count": null,
      "outputs": []
    },
    {
      "cell_type": "code",
      "metadata": {
        "id": "9gNHynskwQOn",
        "outputId": "c6b22d28-7764-4635-8e26-ba793120d828"
      },
      "source": [
        "df.head()"
      ],
      "execution_count": null,
      "outputs": [
        {
          "data": {
            "text/html": [
              "<div>\n",
              "<style scoped>\n",
              "    .dataframe tbody tr th:only-of-type {\n",
              "        vertical-align: middle;\n",
              "    }\n",
              "\n",
              "    .dataframe tbody tr th {\n",
              "        vertical-align: top;\n",
              "    }\n",
              "\n",
              "    .dataframe thead th {\n",
              "        text-align: right;\n",
              "    }\n",
              "</style>\n",
              "<table border=\"1\" class=\"dataframe\">\n",
              "  <thead>\n",
              "    <tr style=\"text-align: right;\">\n",
              "      <th></th>\n",
              "      <th>RowNumber</th>\n",
              "      <th>CustomerId</th>\n",
              "      <th>Surname</th>\n",
              "      <th>CreditScore</th>\n",
              "      <th>Geography</th>\n",
              "      <th>Gender</th>\n",
              "      <th>Age</th>\n",
              "      <th>Tenure</th>\n",
              "      <th>Balance</th>\n",
              "      <th>NumOfProducts</th>\n",
              "      <th>HasCrCard</th>\n",
              "      <th>IsActiveMember</th>\n",
              "      <th>EstimatedSalary</th>\n",
              "      <th>Exited</th>\n",
              "    </tr>\n",
              "  </thead>\n",
              "  <tbody>\n",
              "    <tr>\n",
              "      <td>0</td>\n",
              "      <td>1</td>\n",
              "      <td>15634602</td>\n",
              "      <td>Hargrave</td>\n",
              "      <td>619</td>\n",
              "      <td>France</td>\n",
              "      <td>Female</td>\n",
              "      <td>42</td>\n",
              "      <td>2.0</td>\n",
              "      <td>0.00</td>\n",
              "      <td>1</td>\n",
              "      <td>1</td>\n",
              "      <td>1</td>\n",
              "      <td>101348.88</td>\n",
              "      <td>1</td>\n",
              "    </tr>\n",
              "    <tr>\n",
              "      <td>1</td>\n",
              "      <td>2</td>\n",
              "      <td>15647311</td>\n",
              "      <td>Hill</td>\n",
              "      <td>608</td>\n",
              "      <td>Spain</td>\n",
              "      <td>Female</td>\n",
              "      <td>41</td>\n",
              "      <td>1.0</td>\n",
              "      <td>83807.86</td>\n",
              "      <td>1</td>\n",
              "      <td>0</td>\n",
              "      <td>1</td>\n",
              "      <td>112542.58</td>\n",
              "      <td>0</td>\n",
              "    </tr>\n",
              "    <tr>\n",
              "      <td>2</td>\n",
              "      <td>3</td>\n",
              "      <td>15619304</td>\n",
              "      <td>Onio</td>\n",
              "      <td>502</td>\n",
              "      <td>France</td>\n",
              "      <td>Female</td>\n",
              "      <td>42</td>\n",
              "      <td>8.0</td>\n",
              "      <td>159660.80</td>\n",
              "      <td>3</td>\n",
              "      <td>1</td>\n",
              "      <td>0</td>\n",
              "      <td>113931.57</td>\n",
              "      <td>1</td>\n",
              "    </tr>\n",
              "    <tr>\n",
              "      <td>3</td>\n",
              "      <td>4</td>\n",
              "      <td>15701354</td>\n",
              "      <td>Boni</td>\n",
              "      <td>699</td>\n",
              "      <td>France</td>\n",
              "      <td>Female</td>\n",
              "      <td>39</td>\n",
              "      <td>1.0</td>\n",
              "      <td>0.00</td>\n",
              "      <td>2</td>\n",
              "      <td>0</td>\n",
              "      <td>0</td>\n",
              "      <td>93826.63</td>\n",
              "      <td>0</td>\n",
              "    </tr>\n",
              "    <tr>\n",
              "      <td>4</td>\n",
              "      <td>5</td>\n",
              "      <td>15737888</td>\n",
              "      <td>Mitchell</td>\n",
              "      <td>850</td>\n",
              "      <td>Spain</td>\n",
              "      <td>Female</td>\n",
              "      <td>43</td>\n",
              "      <td>2.0</td>\n",
              "      <td>125510.82</td>\n",
              "      <td>1</td>\n",
              "      <td>1</td>\n",
              "      <td>1</td>\n",
              "      <td>79084.10</td>\n",
              "      <td>0</td>\n",
              "    </tr>\n",
              "  </tbody>\n",
              "</table>\n",
              "</div>"
            ],
            "text/plain": [
              "   RowNumber  CustomerId   Surname  CreditScore Geography  Gender  Age  \\\n",
              "0          1    15634602  Hargrave          619    France  Female   42   \n",
              "1          2    15647311      Hill          608     Spain  Female   41   \n",
              "2          3    15619304      Onio          502    France  Female   42   \n",
              "3          4    15701354      Boni          699    France  Female   39   \n",
              "4          5    15737888  Mitchell          850     Spain  Female   43   \n",
              "\n",
              "   Tenure    Balance  NumOfProducts  HasCrCard  IsActiveMember  \\\n",
              "0     2.0       0.00              1          1               1   \n",
              "1     1.0   83807.86              1          0               1   \n",
              "2     8.0  159660.80              3          1               0   \n",
              "3     1.0       0.00              2          0               0   \n",
              "4     2.0  125510.82              1          1               1   \n",
              "\n",
              "   EstimatedSalary  Exited  \n",
              "0        101348.88       1  \n",
              "1        112542.58       0  \n",
              "2        113931.57       1  \n",
              "3         93826.63       0  \n",
              "4         79084.10       0  "
            ]
          },
          "execution_count": 4,
          "metadata": {},
          "output_type": "execute_result"
        }
      ]
    },
    {
      "cell_type": "code",
      "metadata": {
        "id": "cmuFcCN6wQOp",
        "outputId": "3ef1122f-0fd8-496f-c22b-227735a95148"
      },
      "source": [
        "df.columns"
      ],
      "execution_count": null,
      "outputs": [
        {
          "data": {
            "text/plain": [
              "Index(['RowNumber', 'CustomerId', 'Surname', 'CreditScore', 'Geography',\n",
              "       'Gender', 'Age', 'Tenure', 'Balance', 'NumOfProducts', 'HasCrCard',\n",
              "       'IsActiveMember', 'EstimatedSalary', 'Exited'],\n",
              "      dtype='object')"
            ]
          },
          "execution_count": 5,
          "metadata": {},
          "output_type": "execute_result"
        }
      ]
    },
    {
      "cell_type": "code",
      "metadata": {
        "id": "gXrOKFH-wQOp",
        "outputId": "98fd9690-83a1-43d6-b980-3a7591d870b9"
      },
      "source": [
        "df.Exited.value_counts()/df.shape[0]"
      ],
      "execution_count": null,
      "outputs": [
        {
          "data": {
            "text/plain": [
              "0    0.7963\n",
              "1    0.2037\n",
              "Name: Exited, dtype: float64"
            ]
          },
          "execution_count": 6,
          "metadata": {},
          "output_type": "execute_result"
        }
      ]
    },
    {
      "cell_type": "markdown",
      "metadata": {
        "id": "eqpR15IvwQOp"
      },
      "source": [
        "We can see that 20% of customers left the bank"
      ]
    },
    {
      "cell_type": "code",
      "metadata": {
        "id": "M40_K-pnwQOq",
        "outputId": "44965fdd-2291-4f39-e3fb-a531432b474e"
      },
      "source": [
        "df.isnull().sum()"
      ],
      "execution_count": null,
      "outputs": [
        {
          "data": {
            "text/plain": [
              "RowNumber            0\n",
              "CustomerId           0\n",
              "Surname              0\n",
              "CreditScore          0\n",
              "Geography            0\n",
              "Gender               0\n",
              "Age                  0\n",
              "Tenure             909\n",
              "Balance              0\n",
              "NumOfProducts        0\n",
              "HasCrCard            0\n",
              "IsActiveMember       0\n",
              "EstimatedSalary      0\n",
              "Exited               0\n",
              "dtype: int64"
            ]
          },
          "execution_count": 9,
          "metadata": {},
          "output_type": "execute_result"
        }
      ]
    },
    {
      "cell_type": "markdown",
      "metadata": {
        "id": "EquUf6XiwQOq"
      },
      "source": [
        "We can see that the dataset is in good condition and only one column has missing values."
      ]
    },
    {
      "cell_type": "code",
      "metadata": {
        "id": "2qDDJE9gwQOr",
        "outputId": "55f9a779-38fe-4fdf-c0cb-2173b8bec6a4"
      },
      "source": [
        "df.Geography.value_counts()"
      ],
      "execution_count": null,
      "outputs": [
        {
          "data": {
            "text/plain": [
              "France     5014\n",
              "Germany    2509\n",
              "Spain      2477\n",
              "Name: Geography, dtype: int64"
            ]
          },
          "execution_count": 10,
          "metadata": {},
          "output_type": "execute_result"
        }
      ]
    },
    {
      "cell_type": "markdown",
      "metadata": {
        "id": "WSCv7EC7wQOr"
      },
      "source": [
        "The current variable is a categorical and has three values. Later on, we will be using the method of dummy enconding."
      ]
    },
    {
      "cell_type": "code",
      "metadata": {
        "id": "942bWemEwQOs",
        "outputId": "3c876f0e-3079-4302-ffe0-ca6eee634550"
      },
      "source": [
        "df.Gender.value_counts()"
      ],
      "execution_count": null,
      "outputs": [
        {
          "data": {
            "text/plain": [
              "Male      5457\n",
              "Female    4543\n",
              "Name: Gender, dtype: int64"
            ]
          },
          "execution_count": 11,
          "metadata": {},
          "output_type": "execute_result"
        }
      ]
    },
    {
      "cell_type": "markdown",
      "metadata": {
        "id": "XNoo_Ks4wQOs"
      },
      "source": [
        "The current variable is also categorical and has two values. We will use dummy encoding for this one as well."
      ]
    },
    {
      "cell_type": "code",
      "metadata": {
        "id": "nFT_LkrQwQOt"
      },
      "source": [
        "df.dropna(inplace=True)"
      ],
      "execution_count": null,
      "outputs": []
    },
    {
      "cell_type": "markdown",
      "metadata": {
        "id": "F-RyjnPgwQOt"
      },
      "source": [
        "We do not need NULL values for our data model, therefore we have deleted those null values from the dataframe."
      ]
    },
    {
      "cell_type": "code",
      "metadata": {
        "id": "Pf81XJdwwQOt"
      },
      "source": [
        "X = df.drop(['RowNumber', 'CustomerId', 'Surname','Exited'], axis=1)\n",
        "y = df['Exited']"
      ],
      "execution_count": null,
      "outputs": []
    },
    {
      "cell_type": "code",
      "metadata": {
        "id": "K27NIDozwQOu",
        "outputId": "549858fe-6e12-4de9-af11-d7a7498bf904"
      },
      "source": [
        "X"
      ],
      "execution_count": null,
      "outputs": [
        {
          "data": {
            "text/html": [
              "<div>\n",
              "<style scoped>\n",
              "    .dataframe tbody tr th:only-of-type {\n",
              "        vertical-align: middle;\n",
              "    }\n",
              "\n",
              "    .dataframe tbody tr th {\n",
              "        vertical-align: top;\n",
              "    }\n",
              "\n",
              "    .dataframe thead th {\n",
              "        text-align: right;\n",
              "    }\n",
              "</style>\n",
              "<table border=\"1\" class=\"dataframe\">\n",
              "  <thead>\n",
              "    <tr style=\"text-align: right;\">\n",
              "      <th></th>\n",
              "      <th>CreditScore</th>\n",
              "      <th>Geography</th>\n",
              "      <th>Gender</th>\n",
              "      <th>Age</th>\n",
              "      <th>Tenure</th>\n",
              "      <th>Balance</th>\n",
              "      <th>NumOfProducts</th>\n",
              "      <th>HasCrCard</th>\n",
              "      <th>IsActiveMember</th>\n",
              "      <th>EstimatedSalary</th>\n",
              "    </tr>\n",
              "  </thead>\n",
              "  <tbody>\n",
              "    <tr>\n",
              "      <td>0</td>\n",
              "      <td>619</td>\n",
              "      <td>France</td>\n",
              "      <td>Female</td>\n",
              "      <td>42</td>\n",
              "      <td>2.0</td>\n",
              "      <td>0.00</td>\n",
              "      <td>1</td>\n",
              "      <td>1</td>\n",
              "      <td>1</td>\n",
              "      <td>101348.88</td>\n",
              "    </tr>\n",
              "    <tr>\n",
              "      <td>1</td>\n",
              "      <td>608</td>\n",
              "      <td>Spain</td>\n",
              "      <td>Female</td>\n",
              "      <td>41</td>\n",
              "      <td>1.0</td>\n",
              "      <td>83807.86</td>\n",
              "      <td>1</td>\n",
              "      <td>0</td>\n",
              "      <td>1</td>\n",
              "      <td>112542.58</td>\n",
              "    </tr>\n",
              "    <tr>\n",
              "      <td>2</td>\n",
              "      <td>502</td>\n",
              "      <td>France</td>\n",
              "      <td>Female</td>\n",
              "      <td>42</td>\n",
              "      <td>8.0</td>\n",
              "      <td>159660.80</td>\n",
              "      <td>3</td>\n",
              "      <td>1</td>\n",
              "      <td>0</td>\n",
              "      <td>113931.57</td>\n",
              "    </tr>\n",
              "    <tr>\n",
              "      <td>3</td>\n",
              "      <td>699</td>\n",
              "      <td>France</td>\n",
              "      <td>Female</td>\n",
              "      <td>39</td>\n",
              "      <td>1.0</td>\n",
              "      <td>0.00</td>\n",
              "      <td>2</td>\n",
              "      <td>0</td>\n",
              "      <td>0</td>\n",
              "      <td>93826.63</td>\n",
              "    </tr>\n",
              "    <tr>\n",
              "      <td>4</td>\n",
              "      <td>850</td>\n",
              "      <td>Spain</td>\n",
              "      <td>Female</td>\n",
              "      <td>43</td>\n",
              "      <td>2.0</td>\n",
              "      <td>125510.82</td>\n",
              "      <td>1</td>\n",
              "      <td>1</td>\n",
              "      <td>1</td>\n",
              "      <td>79084.10</td>\n",
              "    </tr>\n",
              "    <tr>\n",
              "      <td>...</td>\n",
              "      <td>...</td>\n",
              "      <td>...</td>\n",
              "      <td>...</td>\n",
              "      <td>...</td>\n",
              "      <td>...</td>\n",
              "      <td>...</td>\n",
              "      <td>...</td>\n",
              "      <td>...</td>\n",
              "      <td>...</td>\n",
              "      <td>...</td>\n",
              "    </tr>\n",
              "    <tr>\n",
              "      <td>9994</td>\n",
              "      <td>800</td>\n",
              "      <td>France</td>\n",
              "      <td>Female</td>\n",
              "      <td>29</td>\n",
              "      <td>2.0</td>\n",
              "      <td>0.00</td>\n",
              "      <td>2</td>\n",
              "      <td>0</td>\n",
              "      <td>0</td>\n",
              "      <td>167773.55</td>\n",
              "    </tr>\n",
              "    <tr>\n",
              "      <td>9995</td>\n",
              "      <td>771</td>\n",
              "      <td>France</td>\n",
              "      <td>Male</td>\n",
              "      <td>39</td>\n",
              "      <td>5.0</td>\n",
              "      <td>0.00</td>\n",
              "      <td>2</td>\n",
              "      <td>1</td>\n",
              "      <td>0</td>\n",
              "      <td>96270.64</td>\n",
              "    </tr>\n",
              "    <tr>\n",
              "      <td>9996</td>\n",
              "      <td>516</td>\n",
              "      <td>France</td>\n",
              "      <td>Male</td>\n",
              "      <td>35</td>\n",
              "      <td>10.0</td>\n",
              "      <td>57369.61</td>\n",
              "      <td>1</td>\n",
              "      <td>1</td>\n",
              "      <td>1</td>\n",
              "      <td>101699.77</td>\n",
              "    </tr>\n",
              "    <tr>\n",
              "      <td>9997</td>\n",
              "      <td>709</td>\n",
              "      <td>France</td>\n",
              "      <td>Female</td>\n",
              "      <td>36</td>\n",
              "      <td>7.0</td>\n",
              "      <td>0.00</td>\n",
              "      <td>1</td>\n",
              "      <td>0</td>\n",
              "      <td>1</td>\n",
              "      <td>42085.58</td>\n",
              "    </tr>\n",
              "    <tr>\n",
              "      <td>9998</td>\n",
              "      <td>772</td>\n",
              "      <td>Germany</td>\n",
              "      <td>Male</td>\n",
              "      <td>42</td>\n",
              "      <td>3.0</td>\n",
              "      <td>75075.31</td>\n",
              "      <td>2</td>\n",
              "      <td>1</td>\n",
              "      <td>0</td>\n",
              "      <td>92888.52</td>\n",
              "    </tr>\n",
              "  </tbody>\n",
              "</table>\n",
              "<p>9091 rows × 10 columns</p>\n",
              "</div>"
            ],
            "text/plain": [
              "      CreditScore Geography  Gender  Age  Tenure    Balance  NumOfProducts  \\\n",
              "0             619    France  Female   42     2.0       0.00              1   \n",
              "1             608     Spain  Female   41     1.0   83807.86              1   \n",
              "2             502    France  Female   42     8.0  159660.80              3   \n",
              "3             699    France  Female   39     1.0       0.00              2   \n",
              "4             850     Spain  Female   43     2.0  125510.82              1   \n",
              "...           ...       ...     ...  ...     ...        ...            ...   \n",
              "9994          800    France  Female   29     2.0       0.00              2   \n",
              "9995          771    France    Male   39     5.0       0.00              2   \n",
              "9996          516    France    Male   35    10.0   57369.61              1   \n",
              "9997          709    France  Female   36     7.0       0.00              1   \n",
              "9998          772   Germany    Male   42     3.0   75075.31              2   \n",
              "\n",
              "      HasCrCard  IsActiveMember  EstimatedSalary  \n",
              "0             1               1        101348.88  \n",
              "1             0               1        112542.58  \n",
              "2             1               0        113931.57  \n",
              "3             0               0         93826.63  \n",
              "4             1               1         79084.10  \n",
              "...         ...             ...              ...  \n",
              "9994          0               0        167773.55  \n",
              "9995          1               0         96270.64  \n",
              "9996          1               1        101699.77  \n",
              "9997          0               1         42085.58  \n",
              "9998          1               0         92888.52  \n",
              "\n",
              "[9091 rows x 10 columns]"
            ]
          },
          "execution_count": 15,
          "metadata": {},
          "output_type": "execute_result"
        }
      ]
    },
    {
      "cell_type": "markdown",
      "metadata": {
        "id": "GxrrBdTnwQOu"
      },
      "source": [
        "We will not need to use Row Number, Cutomer Id, Surname for our model as feaures. They will not add any values, therefore we will drop them from the table."
      ]
    },
    {
      "cell_type": "markdown",
      "metadata": {
        "id": "ysZBqtW1wQOu"
      },
      "source": [
        "The data set was split for X that is features and Y that is prediction."
      ]
    },
    {
      "cell_type": "code",
      "metadata": {
        "id": "GRkq_AN5wQOu"
      },
      "source": [
        "X = pd.get_dummies(X,drop_first=True)"
      ],
      "execution_count": null,
      "outputs": []
    },
    {
      "cell_type": "code",
      "metadata": {
        "id": "WCHTB_UDwQOv",
        "outputId": "1f866ce7-01e4-4d59-c0c0-365336e05c55"
      },
      "source": [
        "X"
      ],
      "execution_count": null,
      "outputs": [
        {
          "data": {
            "text/html": [
              "<div>\n",
              "<style scoped>\n",
              "    .dataframe tbody tr th:only-of-type {\n",
              "        vertical-align: middle;\n",
              "    }\n",
              "\n",
              "    .dataframe tbody tr th {\n",
              "        vertical-align: top;\n",
              "    }\n",
              "\n",
              "    .dataframe thead th {\n",
              "        text-align: right;\n",
              "    }\n",
              "</style>\n",
              "<table border=\"1\" class=\"dataframe\">\n",
              "  <thead>\n",
              "    <tr style=\"text-align: right;\">\n",
              "      <th></th>\n",
              "      <th>CreditScore</th>\n",
              "      <th>Age</th>\n",
              "      <th>Tenure</th>\n",
              "      <th>Balance</th>\n",
              "      <th>NumOfProducts</th>\n",
              "      <th>HasCrCard</th>\n",
              "      <th>IsActiveMember</th>\n",
              "      <th>EstimatedSalary</th>\n",
              "      <th>Geography_Germany</th>\n",
              "      <th>Geography_Spain</th>\n",
              "      <th>Gender_Male</th>\n",
              "    </tr>\n",
              "  </thead>\n",
              "  <tbody>\n",
              "    <tr>\n",
              "      <td>0</td>\n",
              "      <td>619</td>\n",
              "      <td>42</td>\n",
              "      <td>2.0</td>\n",
              "      <td>0.00</td>\n",
              "      <td>1</td>\n",
              "      <td>1</td>\n",
              "      <td>1</td>\n",
              "      <td>101348.88</td>\n",
              "      <td>0</td>\n",
              "      <td>0</td>\n",
              "      <td>0</td>\n",
              "    </tr>\n",
              "    <tr>\n",
              "      <td>1</td>\n",
              "      <td>608</td>\n",
              "      <td>41</td>\n",
              "      <td>1.0</td>\n",
              "      <td>83807.86</td>\n",
              "      <td>1</td>\n",
              "      <td>0</td>\n",
              "      <td>1</td>\n",
              "      <td>112542.58</td>\n",
              "      <td>0</td>\n",
              "      <td>1</td>\n",
              "      <td>0</td>\n",
              "    </tr>\n",
              "    <tr>\n",
              "      <td>2</td>\n",
              "      <td>502</td>\n",
              "      <td>42</td>\n",
              "      <td>8.0</td>\n",
              "      <td>159660.80</td>\n",
              "      <td>3</td>\n",
              "      <td>1</td>\n",
              "      <td>0</td>\n",
              "      <td>113931.57</td>\n",
              "      <td>0</td>\n",
              "      <td>0</td>\n",
              "      <td>0</td>\n",
              "    </tr>\n",
              "    <tr>\n",
              "      <td>3</td>\n",
              "      <td>699</td>\n",
              "      <td>39</td>\n",
              "      <td>1.0</td>\n",
              "      <td>0.00</td>\n",
              "      <td>2</td>\n",
              "      <td>0</td>\n",
              "      <td>0</td>\n",
              "      <td>93826.63</td>\n",
              "      <td>0</td>\n",
              "      <td>0</td>\n",
              "      <td>0</td>\n",
              "    </tr>\n",
              "    <tr>\n",
              "      <td>4</td>\n",
              "      <td>850</td>\n",
              "      <td>43</td>\n",
              "      <td>2.0</td>\n",
              "      <td>125510.82</td>\n",
              "      <td>1</td>\n",
              "      <td>1</td>\n",
              "      <td>1</td>\n",
              "      <td>79084.10</td>\n",
              "      <td>0</td>\n",
              "      <td>1</td>\n",
              "      <td>0</td>\n",
              "    </tr>\n",
              "    <tr>\n",
              "      <td>...</td>\n",
              "      <td>...</td>\n",
              "      <td>...</td>\n",
              "      <td>...</td>\n",
              "      <td>...</td>\n",
              "      <td>...</td>\n",
              "      <td>...</td>\n",
              "      <td>...</td>\n",
              "      <td>...</td>\n",
              "      <td>...</td>\n",
              "      <td>...</td>\n",
              "      <td>...</td>\n",
              "    </tr>\n",
              "    <tr>\n",
              "      <td>9994</td>\n",
              "      <td>800</td>\n",
              "      <td>29</td>\n",
              "      <td>2.0</td>\n",
              "      <td>0.00</td>\n",
              "      <td>2</td>\n",
              "      <td>0</td>\n",
              "      <td>0</td>\n",
              "      <td>167773.55</td>\n",
              "      <td>0</td>\n",
              "      <td>0</td>\n",
              "      <td>0</td>\n",
              "    </tr>\n",
              "    <tr>\n",
              "      <td>9995</td>\n",
              "      <td>771</td>\n",
              "      <td>39</td>\n",
              "      <td>5.0</td>\n",
              "      <td>0.00</td>\n",
              "      <td>2</td>\n",
              "      <td>1</td>\n",
              "      <td>0</td>\n",
              "      <td>96270.64</td>\n",
              "      <td>0</td>\n",
              "      <td>0</td>\n",
              "      <td>1</td>\n",
              "    </tr>\n",
              "    <tr>\n",
              "      <td>9996</td>\n",
              "      <td>516</td>\n",
              "      <td>35</td>\n",
              "      <td>10.0</td>\n",
              "      <td>57369.61</td>\n",
              "      <td>1</td>\n",
              "      <td>1</td>\n",
              "      <td>1</td>\n",
              "      <td>101699.77</td>\n",
              "      <td>0</td>\n",
              "      <td>0</td>\n",
              "      <td>1</td>\n",
              "    </tr>\n",
              "    <tr>\n",
              "      <td>9997</td>\n",
              "      <td>709</td>\n",
              "      <td>36</td>\n",
              "      <td>7.0</td>\n",
              "      <td>0.00</td>\n",
              "      <td>1</td>\n",
              "      <td>0</td>\n",
              "      <td>1</td>\n",
              "      <td>42085.58</td>\n",
              "      <td>0</td>\n",
              "      <td>0</td>\n",
              "      <td>0</td>\n",
              "    </tr>\n",
              "    <tr>\n",
              "      <td>9998</td>\n",
              "      <td>772</td>\n",
              "      <td>42</td>\n",
              "      <td>3.0</td>\n",
              "      <td>75075.31</td>\n",
              "      <td>2</td>\n",
              "      <td>1</td>\n",
              "      <td>0</td>\n",
              "      <td>92888.52</td>\n",
              "      <td>1</td>\n",
              "      <td>0</td>\n",
              "      <td>1</td>\n",
              "    </tr>\n",
              "  </tbody>\n",
              "</table>\n",
              "<p>9091 rows × 11 columns</p>\n",
              "</div>"
            ],
            "text/plain": [
              "      CreditScore  Age  Tenure    Balance  NumOfProducts  HasCrCard  \\\n",
              "0             619   42     2.0       0.00              1          1   \n",
              "1             608   41     1.0   83807.86              1          0   \n",
              "2             502   42     8.0  159660.80              3          1   \n",
              "3             699   39     1.0       0.00              2          0   \n",
              "4             850   43     2.0  125510.82              1          1   \n",
              "...           ...  ...     ...        ...            ...        ...   \n",
              "9994          800   29     2.0       0.00              2          0   \n",
              "9995          771   39     5.0       0.00              2          1   \n",
              "9996          516   35    10.0   57369.61              1          1   \n",
              "9997          709   36     7.0       0.00              1          0   \n",
              "9998          772   42     3.0   75075.31              2          1   \n",
              "\n",
              "      IsActiveMember  EstimatedSalary  Geography_Germany  Geography_Spain  \\\n",
              "0                  1        101348.88                  0                0   \n",
              "1                  1        112542.58                  0                1   \n",
              "2                  0        113931.57                  0                0   \n",
              "3                  0         93826.63                  0                0   \n",
              "4                  1         79084.10                  0                1   \n",
              "...              ...              ...                ...              ...   \n",
              "9994               0        167773.55                  0                0   \n",
              "9995               0         96270.64                  0                0   \n",
              "9996               1        101699.77                  0                0   \n",
              "9997               1         42085.58                  0                0   \n",
              "9998               0         92888.52                  1                0   \n",
              "\n",
              "      Gender_Male  \n",
              "0               0  \n",
              "1               0  \n",
              "2               0  \n",
              "3               0  \n",
              "4               0  \n",
              "...           ...  \n",
              "9994            0  \n",
              "9995            1  \n",
              "9996            1  \n",
              "9997            0  \n",
              "9998            1  \n",
              "\n",
              "[9091 rows x 11 columns]"
            ]
          },
          "execution_count": 17,
          "metadata": {},
          "output_type": "execute_result"
        }
      ]
    },
    {
      "cell_type": "markdown",
      "metadata": {
        "id": "abV-GSyywQOv"
      },
      "source": [
        "We have used dummies encoding method for categorical data such as Geography and Gender to ransfer it to numerical type."
      ]
    },
    {
      "cell_type": "code",
      "metadata": {
        "id": "GVMIXEtSwQOv"
      },
      "source": [
        "#75% train, 25% test\n",
        "X_train, X_test, y_train, y_test = train_test_split(X,y, test_size= 0.25, random_state=42)\n"
      ],
      "execution_count": null,
      "outputs": []
    },
    {
      "cell_type": "code",
      "metadata": {
        "id": "XwVqrdr_wQOw",
        "outputId": "76ce5faf-1de3-4ecb-9552-887e9d6d3d85"
      },
      "source": [
        "np.array([X_train.shape[0], X_test.shape[0]])/df.shape[0]"
      ],
      "execution_count": null,
      "outputs": [
        {
          "data": {
            "text/plain": [
              "array([0.7499725, 0.2500275])"
            ]
          },
          "execution_count": 19,
          "metadata": {},
          "output_type": "execute_result"
        }
      ]
    },
    {
      "cell_type": "markdown",
      "metadata": {
        "id": "8T48m0KiwQOw"
      },
      "source": [
        "We have splitted the data set into 75% for training and 25% for testing. We have also confirmed with the tool of np. array if it was split correctly."
      ]
    },
    {
      "cell_type": "markdown",
      "metadata": {
        "id": "spjDmvvQwQOx"
      },
      "source": [
        "<a id='step2'></a>"
      ]
    },
    {
      "cell_type": "markdown",
      "metadata": {
        "id": "lGUgi_FUwQOx"
      },
      "source": [
        "# Model without imbalance handling"
      ]
    },
    {
      "cell_type": "code",
      "metadata": {
        "id": "a_7l__mtwQOx",
        "outputId": "70ccf018-5d3e-4a3c-ab24-f631b87cc71a",
        "colab": {
          "base_uri": "https://localhost:8080/",
          "height": 180
        }
      },
      "source": [
        "model = DecisionTreeClassifier(random_state=12345)\n",
        "model.fit(X_train,y_train)"
      ],
      "execution_count": null,
      "outputs": [
        {
          "output_type": "error",
          "ename": "NameError",
          "evalue": "ignored",
          "traceback": [
            "\u001b[0;31m---------------------------------------------------------------------------\u001b[0m",
            "\u001b[0;31mNameError\u001b[0m                                 Traceback (most recent call last)",
            "\u001b[0;32m<ipython-input-1-50b5c7ecd0a2>\u001b[0m in \u001b[0;36m<module>\u001b[0;34m()\u001b[0m\n\u001b[0;32m----> 1\u001b[0;31m \u001b[0mmodel\u001b[0m \u001b[0;34m=\u001b[0m \u001b[0mDecisionTreeClassifier\u001b[0m\u001b[0;34m(\u001b[0m\u001b[0mrandom_state\u001b[0m\u001b[0;34m=\u001b[0m\u001b[0;36m12345\u001b[0m\u001b[0;34m)\u001b[0m\u001b[0;34m\u001b[0m\u001b[0;34m\u001b[0m\u001b[0m\n\u001b[0m\u001b[1;32m      2\u001b[0m \u001b[0mmodel\u001b[0m\u001b[0;34m.\u001b[0m\u001b[0mfit\u001b[0m\u001b[0;34m(\u001b[0m\u001b[0mX_train\u001b[0m\u001b[0;34m,\u001b[0m\u001b[0my_train\u001b[0m\u001b[0;34m)\u001b[0m\u001b[0;34m\u001b[0m\u001b[0;34m\u001b[0m\u001b[0m\n",
            "\u001b[0;31mNameError\u001b[0m: name 'DecisionTreeClassifier' is not defined"
          ]
        }
      ]
    },
    {
      "cell_type": "markdown",
      "metadata": {
        "id": "KchtNIkQwQOx"
      },
      "source": [
        "We have tested Decision Tree Classifier for the first model that doesn't take into consideration the imbalancing."
      ]
    },
    {
      "cell_type": "code",
      "metadata": {
        "id": "CWhIrSqhwQOy"
      },
      "source": [
        "print('F1 Score: ' + str((f1_score(y_test, model.predict(X_test))*100).round(2))+'%')\n",
        "print('Accuracy Score: ' + str((accuracy_score(y_test, model.predict(X_test))*100).round(2))+'%')\n",
        "print('Balanced Accuracy Score: ' + str((balanced_accuracy_score(y_test, model.predict(X_test))*100).round(2))+'%')\n",
        "print('ROC AUC Score: ' + str((roc_auc_score(y_test, model.predict(X_test))*100).round(2))+'%')"
      ],
      "execution_count": null,
      "outputs": []
    },
    {
      "cell_type": "markdown",
      "metadata": {
        "id": "GvwDlqSrwQOy"
      },
      "source": [
        "We can see that Accuracy Score is relatively high and it is about 80%. We could say that the model is good however F1 score is below required F1=0.59."
      ]
    },
    {
      "cell_type": "code",
      "metadata": {
        "id": "E06igPsKwQOz"
      },
      "source": [
        "confusion_matrix(y_test, model.predict(X_test))"
      ],
      "execution_count": null,
      "outputs": []
    },
    {
      "cell_type": "markdown",
      "metadata": {
        "id": "aH9hok4xwQOz"
      },
      "source": [
        "Based on the confusion matrix we can see that the class 1 has almost the same numbe rpredicted correctly and incorrectly. It means that our model is not accurate by predicting 50/50 correct and incorrect especially for the class 1 that is our churn rate."
      ]
    },
    {
      "cell_type": "code",
      "metadata": {
        "id": "LLX5V_D9wQOz"
      },
      "source": [
        "print(classification_report(y_test, model.predict(X_test)))"
      ],
      "execution_count": null,
      "outputs": []
    },
    {
      "cell_type": "markdown",
      "metadata": {
        "id": "RiCB8sNywQO0"
      },
      "source": [
        "Based on the classification report we can confirm again that class 1 doesn't have good scores for precision, recall and f-1 score."
      ]
    },
    {
      "cell_type": "code",
      "metadata": {
        "id": "uSgxw0qewQO0"
      },
      "source": [
        "for i in range(1,10):\n",
        "    model = DecisionTreeClassifier(max_depth=i,random_state=12345, )\n",
        "    model.fit(X_train,y_train)\n",
        "    print('Max Depth ' + str(i))\n",
        "    print('F1 Score: ' + str((f1_score(y_test, model.predict(X_test))*100).round(2))+'%')"
      ],
      "execution_count": null,
      "outputs": []
    },
    {
      "cell_type": "markdown",
      "metadata": {
        "id": "QpMts3DbwQO0"
      },
      "source": [
        "We wanted to test if by changing max depth in Decision Tree we can achieve the required minimum of F-1 = 0.59. However we can see that the max score could 56.19 with imbalanced decision tree model that is below our requirement."
      ]
    },
    {
      "cell_type": "markdown",
      "metadata": {
        "id": "Aus7q-MtwQO1"
      },
      "source": [
        "<a id='step3'></a>"
      ]
    },
    {
      "cell_type": "markdown",
      "metadata": {
        "id": "P_wcdDCjwQO1"
      },
      "source": [
        "# Balanced Class Parameters"
      ]
    },
    {
      "cell_type": "code",
      "metadata": {
        "id": "3tPNT62WwQO1",
        "outputId": "12f244fa-99d0-4a1c-cad3-2f5e9bf31d63"
      },
      "source": [
        "#Decision Tree Classifier Model\n",
        "for i in range(1,10):\n",
        "    model = DecisionTreeClassifier(class_weight='balanced',max_depth=i,random_state=12345, )\n",
        "    model.fit(X_train,y_train)\n",
        "    print('Max Depth ' + str(i))\n",
        "    print('F1 Score: ' + str((f1_score(y_test, model.predict(X_test))*100).round(2))+'%')"
      ],
      "execution_count": null,
      "outputs": [
        {
          "name": "stdout",
          "output_type": "stream",
          "text": [
            "Max Depth 1\n",
            "F1 Score: 48.03%\n",
            "Max Depth 2\n",
            "F1 Score: 50.33%\n",
            "Max Depth 3\n",
            "F1 Score: 50.33%\n",
            "Max Depth 4\n",
            "F1 Score: 55.06%\n",
            "Max Depth 5\n",
            "F1 Score: 55.95%\n",
            "Max Depth 6\n",
            "F1 Score: 56.86%\n",
            "Max Depth 7\n",
            "F1 Score: 57.09%\n",
            "Max Depth 8\n",
            "F1 Score: 55.62%\n",
            "Max Depth 9\n",
            "F1 Score: 55.63%\n"
          ]
        }
      ]
    },
    {
      "cell_type": "markdown",
      "metadata": {
        "id": "3Zb_8KsKwQO2"
      },
      "source": [
        "We have passed class weight hypermater \"balanced\" to balance the data. We can see the improvements in the scores in comaprison with unbalanced testing, however they are still below required f-1 score of 0.59."
      ]
    },
    {
      "cell_type": "code",
      "metadata": {
        "id": "kUUwJF6fwQO2",
        "outputId": "dfaba25c-634d-4241-bf44-f9698ee55dc9"
      },
      "source": [
        "#Random Forest Classifier\n",
        "for i in range(1,10):\n",
        "    rf_model = RandomForestClassifier(class_weight='balanced',max_depth=i, random_state=12345, )\n",
        "    rf_model.fit(X_train,y_train)\n",
        "    print('Max Depth ' + str(i))\n",
        "    print('F1 Score: ' + str((f1_score(y_test, rf_model.predict(X_test))*100).round(2))+'%')\n"
      ],
      "execution_count": null,
      "outputs": [
        {
          "name": "stderr",
          "output_type": "stream",
          "text": [
            "/opt/conda/lib/python3.7/site-packages/sklearn/ensemble/forest.py:245: FutureWarning: The default value of n_estimators will change from 10 in version 0.20 to 100 in 0.22.\n",
            "  \"10 in version 0.20 to 100 in 0.22.\", FutureWarning)\n",
            "/opt/conda/lib/python3.7/site-packages/sklearn/ensemble/forest.py:245: FutureWarning: The default value of n_estimators will change from 10 in version 0.20 to 100 in 0.22.\n",
            "  \"10 in version 0.20 to 100 in 0.22.\", FutureWarning)\n",
            "/opt/conda/lib/python3.7/site-packages/sklearn/ensemble/forest.py:245: FutureWarning: The default value of n_estimators will change from 10 in version 0.20 to 100 in 0.22.\n",
            "  \"10 in version 0.20 to 100 in 0.22.\", FutureWarning)\n",
            "/opt/conda/lib/python3.7/site-packages/sklearn/ensemble/forest.py:245: FutureWarning: The default value of n_estimators will change from 10 in version 0.20 to 100 in 0.22.\n",
            "  \"10 in version 0.20 to 100 in 0.22.\", FutureWarning)\n"
          ]
        },
        {
          "name": "stdout",
          "output_type": "stream",
          "text": [
            "Max Depth 1\n",
            "F1 Score: 49.61%\n",
            "Max Depth 2\n",
            "F1 Score: 53.07%\n",
            "Max Depth 3\n",
            "F1 Score: 55.65%\n",
            "Max Depth 4\n",
            "F1 Score: 57.25%\n"
          ]
        },
        {
          "name": "stderr",
          "output_type": "stream",
          "text": [
            "/opt/conda/lib/python3.7/site-packages/sklearn/ensemble/forest.py:245: FutureWarning: The default value of n_estimators will change from 10 in version 0.20 to 100 in 0.22.\n",
            "  \"10 in version 0.20 to 100 in 0.22.\", FutureWarning)\n",
            "/opt/conda/lib/python3.7/site-packages/sklearn/ensemble/forest.py:245: FutureWarning: The default value of n_estimators will change from 10 in version 0.20 to 100 in 0.22.\n",
            "  \"10 in version 0.20 to 100 in 0.22.\", FutureWarning)\n",
            "/opt/conda/lib/python3.7/site-packages/sklearn/ensemble/forest.py:245: FutureWarning: The default value of n_estimators will change from 10 in version 0.20 to 100 in 0.22.\n",
            "  \"10 in version 0.20 to 100 in 0.22.\", FutureWarning)\n"
          ]
        },
        {
          "name": "stdout",
          "output_type": "stream",
          "text": [
            "Max Depth 5\n",
            "F1 Score: 57.47%\n",
            "Max Depth 6\n",
            "F1 Score: 58.41%\n",
            "Max Depth 7\n",
            "F1 Score: 57.83%\n",
            "Max Depth 8\n",
            "F1 Score: 59.5%\n",
            "Max Depth 9\n",
            "F1 Score: 58.0%\n"
          ]
        },
        {
          "name": "stderr",
          "output_type": "stream",
          "text": [
            "/opt/conda/lib/python3.7/site-packages/sklearn/ensemble/forest.py:245: FutureWarning: The default value of n_estimators will change from 10 in version 0.20 to 100 in 0.22.\n",
            "  \"10 in version 0.20 to 100 in 0.22.\", FutureWarning)\n",
            "/opt/conda/lib/python3.7/site-packages/sklearn/ensemble/forest.py:245: FutureWarning: The default value of n_estimators will change from 10 in version 0.20 to 100 in 0.22.\n",
            "  \"10 in version 0.20 to 100 in 0.22.\", FutureWarning)\n"
          ]
        }
      ]
    },
    {
      "cell_type": "markdown",
      "metadata": {
        "id": "CpewnLELwQO3"
      },
      "source": [
        "We have applied the same method of balancing for Random Forest Classifier, and we can see that we were able to achieve threshold score of 59 with max depth of 8."
      ]
    },
    {
      "cell_type": "code",
      "metadata": {
        "id": "BHHU5cP7wQO3",
        "outputId": "aa524ec0-fbb6-42fc-b586-e67175a258dd"
      },
      "source": [
        "rf_model = RandomForestClassifier(class_weight='balanced',max_depth=8, random_state=12345, )\n",
        "rf_model.fit(X_train,y_train)"
      ],
      "execution_count": null,
      "outputs": [
        {
          "name": "stderr",
          "output_type": "stream",
          "text": [
            "/opt/conda/lib/python3.7/site-packages/sklearn/ensemble/forest.py:245: FutureWarning: The default value of n_estimators will change from 10 in version 0.20 to 100 in 0.22.\n",
            "  \"10 in version 0.20 to 100 in 0.22.\", FutureWarning)\n"
          ]
        },
        {
          "data": {
            "text/plain": [
              "RandomForestClassifier(bootstrap=True, class_weight='balanced',\n",
              "                       criterion='gini', max_depth=8, max_features='auto',\n",
              "                       max_leaf_nodes=None, min_impurity_decrease=0.0,\n",
              "                       min_impurity_split=None, min_samples_leaf=1,\n",
              "                       min_samples_split=2, min_weight_fraction_leaf=0.0,\n",
              "                       n_estimators=10, n_jobs=None, oob_score=False,\n",
              "                       random_state=12345, verbose=0, warm_start=False)"
            ]
          },
          "execution_count": 28,
          "metadata": {},
          "output_type": "execute_result"
        }
      ]
    },
    {
      "cell_type": "code",
      "metadata": {
        "id": "7hwD_gP2wQO4",
        "outputId": "52a83e5f-f0e8-4171-bfa5-bdf2461d7462"
      },
      "source": [
        "confusion_matrix(y_test, rf_model.predict(X_test))"
      ],
      "execution_count": null,
      "outputs": [
        {
          "data": {
            "text/plain": [
              "array([[1567,  248],\n",
              "       [ 159,  299]])"
            ]
          },
          "execution_count": 29,
          "metadata": {},
          "output_type": "execute_result"
        }
      ]
    },
    {
      "cell_type": "markdown",
      "metadata": {
        "id": "0BASBa_OwQO4"
      },
      "source": [
        "We can see that class 1 has a higher number of predicted correct answers over incorrect. We can state the accuracy score is better than imbalanced model."
      ]
    },
    {
      "cell_type": "code",
      "metadata": {
        "id": "cdstBIpKwQO5",
        "outputId": "215da8b5-8474-4010-c289-03b73afad6aa"
      },
      "source": [
        "print(classification_report(y_test, rf_model.predict(X_test)))"
      ],
      "execution_count": null,
      "outputs": [
        {
          "name": "stdout",
          "output_type": "stream",
          "text": [
            "              precision    recall  f1-score   support\n",
            "\n",
            "           0       0.91      0.86      0.89      1815\n",
            "           1       0.55      0.65      0.60       458\n",
            "\n",
            "    accuracy                           0.82      2273\n",
            "   macro avg       0.73      0.76      0.74      2273\n",
            "weighted avg       0.84      0.82      0.83      2273\n",
            "\n"
          ]
        }
      ]
    },
    {
      "cell_type": "markdown",
      "metadata": {
        "id": "d9oZo3c5wQO5"
      },
      "source": [
        "We can see that F-1 score is 60% and accuracy score is 82% that is higher in another models."
      ]
    },
    {
      "cell_type": "code",
      "metadata": {
        "id": "zJpcYTXLwQO5",
        "outputId": "30bfbe8d-9ee6-4334-8edb-223aaaf619c1"
      },
      "source": [
        "print(roc_auc_score(y_test, rf_model.predict(X_test)))"
      ],
      "execution_count": null,
      "outputs": [
        {
          "name": "stdout",
          "output_type": "stream",
          "text": [
            "0.758099654745149\n"
          ]
        }
      ]
    },
    {
      "cell_type": "markdown",
      "metadata": {
        "id": "JcfHKLN2wQO6"
      },
      "source": [
        "<a id='step4'></a>"
      ]
    },
    {
      "cell_type": "markdown",
      "metadata": {
        "id": "mSikrhMnwQO6"
      },
      "source": [
        "# Oversampling Minorities"
      ]
    },
    {
      "cell_type": "code",
      "metadata": {
        "id": "zaYKzrmgwQO6",
        "outputId": "c6d8c029-feeb-4d93-b170-95c494a0e4c1"
      },
      "source": [
        "y_train.value_counts()"
      ],
      "execution_count": null,
      "outputs": [
        {
          "data": {
            "text/plain": [
              "0    5422\n",
              "1    1396\n",
              "Name: Exited, dtype: int64"
            ]
          },
          "execution_count": 32,
          "metadata": {},
          "output_type": "execute_result"
        }
      ]
    },
    {
      "cell_type": "code",
      "metadata": {
        "id": "eYlfl_GRwQO7"
      },
      "source": [
        "X_train_resample = X_train[y_train==0]\n",
        "X_train_resample = X_train_resample.append(X_train[y_train==1].sample((y_train==0).sum(),replace=True))"
      ],
      "execution_count": null,
      "outputs": []
    },
    {
      "cell_type": "code",
      "metadata": {
        "id": "gdzyiMFVwQO7"
      },
      "source": [
        "y_train_resample = np.array([0]*(y_train==0).sum()+[1]*(y_train==0).sum())"
      ],
      "execution_count": null,
      "outputs": []
    },
    {
      "cell_type": "markdown",
      "metadata": {
        "id": "YOuf2ftYwQO7"
      },
      "source": [
        "We have chosen to use the method of oversampling minorities to resample our class 1 and have it closer to the number of class 0. This method balnces two parameters when the quantity of classes is too different."
      ]
    },
    {
      "cell_type": "code",
      "metadata": {
        "id": "el2xzH8owQO8",
        "outputId": "c469334b-525b-45c1-8ada-ce8fabeab9ed"
      },
      "source": [
        "#Decision Tree Classifier\n",
        "for i in range(1,10):\n",
        "    model = DecisionTreeClassifier(max_depth=i,random_state=12345, )\n",
        "    model.fit(X_train_resample,y_train_resample)\n",
        "    print('Max Depth ' + str(i))\n",
        "    print('F1 Score: ' + str((f1_score(y_test, model.predict(X_test))*100).round(2))+'%')"
      ],
      "execution_count": null,
      "outputs": [
        {
          "name": "stdout",
          "output_type": "stream",
          "text": [
            "Max Depth 1\n",
            "F1 Score: 48.03%\n",
            "Max Depth 2\n",
            "F1 Score: 50.33%\n",
            "Max Depth 3\n",
            "F1 Score: 52.61%\n",
            "Max Depth 4\n",
            "F1 Score: 52.73%\n",
            "Max Depth 5\n",
            "F1 Score: 56.59%\n",
            "Max Depth 6\n",
            "F1 Score: 55.79%\n",
            "Max Depth 7\n",
            "F1 Score: 57.48%\n",
            "Max Depth 8\n",
            "F1 Score: 56.86%\n",
            "Max Depth 9\n",
            "F1 Score: 53.49%\n"
          ]
        }
      ]
    },
    {
      "cell_type": "markdown",
      "metadata": {
        "id": "pxqapVXQwQO8"
      },
      "source": [
        "We can see that Decision Tree Classifier and oversampling didn't help to achieve F-1 score of 0.59, but we can still conclude that oversampling performs better than imbalanced."
      ]
    },
    {
      "cell_type": "code",
      "metadata": {
        "id": "JGuj1ctgwQO8",
        "outputId": "4e8b9610-64e9-4eb6-a506-40fd2c574dab"
      },
      "source": [
        "#Random Forest Classifier\n",
        "for i in range(1,10):\n",
        "    rf_model = RandomForestClassifier(max_depth=i, random_state=12345, )\n",
        "    rf_model.fit(X_train_resample,y_train_resample)\n",
        "    print('Max Depth ' + str(i))\n",
        "    print('F1 Score: ' + str((f1_score(y_test, rf_model.predict(X_test))*100).round(2))+'%')\n"
      ],
      "execution_count": null,
      "outputs": [
        {
          "name": "stderr",
          "output_type": "stream",
          "text": [
            "/opt/conda/lib/python3.7/site-packages/sklearn/ensemble/forest.py:245: FutureWarning: The default value of n_estimators will change from 10 in version 0.20 to 100 in 0.22.\n",
            "  \"10 in version 0.20 to 100 in 0.22.\", FutureWarning)\n",
            "/opt/conda/lib/python3.7/site-packages/sklearn/ensemble/forest.py:245: FutureWarning: The default value of n_estimators will change from 10 in version 0.20 to 100 in 0.22.\n",
            "  \"10 in version 0.20 to 100 in 0.22.\", FutureWarning)\n",
            "/opt/conda/lib/python3.7/site-packages/sklearn/ensemble/forest.py:245: FutureWarning: The default value of n_estimators will change from 10 in version 0.20 to 100 in 0.22.\n",
            "  \"10 in version 0.20 to 100 in 0.22.\", FutureWarning)\n",
            "/opt/conda/lib/python3.7/site-packages/sklearn/ensemble/forest.py:245: FutureWarning: The default value of n_estimators will change from 10 in version 0.20 to 100 in 0.22.\n",
            "  \"10 in version 0.20 to 100 in 0.22.\", FutureWarning)\n"
          ]
        },
        {
          "name": "stdout",
          "output_type": "stream",
          "text": [
            "Max Depth 1\n",
            "F1 Score: 51.42%\n",
            "Max Depth 2\n",
            "F1 Score: 53.41%\n",
            "Max Depth 3\n",
            "F1 Score: 54.19%\n",
            "Max Depth 4\n",
            "F1 Score: 56.89%\n",
            "Max Depth 5\n",
            "F1 Score: 57.25%\n",
            "Max Depth 6\n",
            "F1 Score: 59.21%\n"
          ]
        },
        {
          "name": "stderr",
          "output_type": "stream",
          "text": [
            "/opt/conda/lib/python3.7/site-packages/sklearn/ensemble/forest.py:245: FutureWarning: The default value of n_estimators will change from 10 in version 0.20 to 100 in 0.22.\n",
            "  \"10 in version 0.20 to 100 in 0.22.\", FutureWarning)\n",
            "/opt/conda/lib/python3.7/site-packages/sklearn/ensemble/forest.py:245: FutureWarning: The default value of n_estimators will change from 10 in version 0.20 to 100 in 0.22.\n",
            "  \"10 in version 0.20 to 100 in 0.22.\", FutureWarning)\n",
            "/opt/conda/lib/python3.7/site-packages/sklearn/ensemble/forest.py:245: FutureWarning: The default value of n_estimators will change from 10 in version 0.20 to 100 in 0.22.\n",
            "  \"10 in version 0.20 to 100 in 0.22.\", FutureWarning)\n"
          ]
        },
        {
          "name": "stdout",
          "output_type": "stream",
          "text": [
            "Max Depth 7\n",
            "F1 Score: 59.11%\n",
            "Max Depth 8\n",
            "F1 Score: 59.18%\n"
          ]
        },
        {
          "name": "stderr",
          "output_type": "stream",
          "text": [
            "/opt/conda/lib/python3.7/site-packages/sklearn/ensemble/forest.py:245: FutureWarning: The default value of n_estimators will change from 10 in version 0.20 to 100 in 0.22.\n",
            "  \"10 in version 0.20 to 100 in 0.22.\", FutureWarning)\n",
            "/opt/conda/lib/python3.7/site-packages/sklearn/ensemble/forest.py:245: FutureWarning: The default value of n_estimators will change from 10 in version 0.20 to 100 in 0.22.\n",
            "  \"10 in version 0.20 to 100 in 0.22.\", FutureWarning)\n"
          ]
        },
        {
          "name": "stdout",
          "output_type": "stream",
          "text": [
            "Max Depth 9\n",
            "F1 Score: 59.51%\n"
          ]
        }
      ]
    },
    {
      "cell_type": "markdown",
      "metadata": {
        "id": "e1FfGX7ewQO9"
      },
      "source": [
        "We can see that Random Forest model achieves F-1 score over 0.59 with the max depths starting from 6 till 9. We can see that the highest score is with max depth=9."
      ]
    },
    {
      "cell_type": "code",
      "metadata": {
        "id": "F591lLAkwQO9",
        "outputId": "97708541-baf8-481f-c362-9b51921adaa4"
      },
      "source": [
        "print(roc_auc_score(y_test, rf_model.predict(X_test)))"
      ],
      "execution_count": null,
      "outputs": [
        {
          "name": "stdout",
          "output_type": "stream",
          "text": [
            "0.7559469245852732\n"
          ]
        }
      ]
    },
    {
      "cell_type": "markdown",
      "metadata": {
        "id": "zNrAeeU2wQO-"
      },
      "source": [
        "<a id='step5'></a>"
      ]
    },
    {
      "cell_type": "markdown",
      "metadata": {
        "id": "UQgVB1h-wQO-"
      },
      "source": [
        "# Conclusion"
      ]
    },
    {
      "cell_type": "markdown",
      "metadata": {
        "id": "dCiYIRqcwQO-"
      },
      "source": [
        "The data was prepared in the beginning of the project and we have dropped some null values and dermined features and predicted variables.\n",
        "We have trained the model with imbalanced classes, and we saw that we aren't able to achieve a high enough F-1 score of 0.59.\n",
        "We have balanced the classes with the hypermeter class weight \"balanced\" that helped to achieve a minimum of F-1 score with the Random Forest Model. Decision Tree model had higher scores but still not 0.59 as it was mentioned.\n",
        "Another method was used to balance the classes is to oversample minorities. With this method, we have also achieved F-1 score 0.59 with the Random Forest model.\n",
        "We can say that for our task the balancing is important to achieve a higher score and class weight balances and oversampling helped to achieve the required F-1 score."
      ]
    }
  ]
}